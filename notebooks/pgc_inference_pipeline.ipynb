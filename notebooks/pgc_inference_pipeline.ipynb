{
 "cells": [
  {
   "cell_type": "markdown",
   "metadata": {
    "id": "thK7r17Bj1uZ"
   },
   "source": [
    "# PGCView Image Prediction Pipeline\n",
    "This Python notebook will allow you to load the PGC View model API endpoints, upload your images, and then process them.\n",
    "\n",
    "Instructions:\n",
    "* Connect to a CPU instance using the menu at the top right of the notebook (no need to use a GPU runtime)\n",
    "* Once connected, go to the 'Files' directory on the left sidebar and upload all your images in 'RGPCV_fastapi/assets/images'\n",
    "* Click 'run' on each cell or use the toolbar and got to  'Runtime' -> 'Run all'\n",
    "* Wait for all the images to finish processing and then download image predictions and tabular data from 'output'."
   ]
  },
  {
   "cell_type": "markdown",
   "metadata": {},
   "source": [
    "## Step 1\n",
    "Run the cell below to mount your Google Drive"
   ]
  },
  {
   "cell_type": "code",
   "execution_count": null,
   "metadata": {
    "colab": {
     "base_uri": "https://localhost:8080/"
    },
    "executionInfo": {
     "elapsed": 29987,
     "status": "ok",
     "timestamp": 1734400719821,
     "user": {
      "displayName": "Bo Meyering",
      "userId": "12820085305614794448"
     },
     "user_tz": 300
    },
    "id": "OCXVN116akYx",
    "outputId": "427e7e7c-1334-4512-a18e-cfd1e599cd4e"
   },
   "outputs": [],
   "source": [
    "# Mount Google Drive\n",
    "from google.colab import drive\n",
    "drive.mount('/content/drive')"
   ]
  },
  {
   "cell_type": "markdown",
   "metadata": {},
   "source": [
    "## Step 2\n",
    "Clone the GitHub repository for the pipeline"
   ]
  },
  {
   "cell_type": "code",
   "execution_count": null,
   "metadata": {
    "colab": {
     "base_uri": "https://localhost:8080/"
    },
    "executionInfo": {
     "elapsed": 3073,
     "status": "ok",
     "timestamp": 1734400722880,
     "user": {
      "displayName": "Bo Meyering",
      "userId": "12820085305614794448"
     },
     "user_tz": 300
    },
    "id": "zOT1z6oKtkbw",
    "outputId": "82483ee9-929f-40fc-f1c0-8b7ae551607b"
   },
   "outputs": [],
   "source": [
    "# Grab the pipeline code from GitHub\n",
    "!git clone https://github.com/BoMeyering/regen_pgc_inference_pipeline.git\n",
    "%cd regen_pgc_inference_pipeline/"
   ]
  },
  {
   "cell_type": "code",
   "execution_count": null,
   "metadata": {
    "colab": {
     "base_uri": "https://localhost:8080/"
    },
    "executionInfo": {
     "elapsed": 8187,
     "status": "ok",
     "timestamp": 1734400731063,
     "user": {
      "displayName": "Bo Meyering",
      "userId": "12820085305614794448"
     },
     "user_tz": 300
    },
    "id": "lFqariJFbaSP",
    "outputId": "843c4581-d997-4926-840c-f88f7c55d8b9"
   },
   "outputs": [],
   "source": [
    "from pipeline import run_pipeline, get_filenames"
   ]
  },
  {
   "cell_type": "markdown",
   "metadata": {},
   "source": [
    " ## Step 3\n",
    "Once all the above cells have run successfully, add all of your images into ```assets/images```. Wait for the uploads to finish, and then run the cell below.\n",
    "It should output a list of all the images names like\n",
    "\n",
    "```\n",
    "['image_1.jpg', 'image_2.jpg', ... , 'image_n.jpg']\n",
    "```\n",
    "\n",
    "If there is no output or if the output is an empty list ```[]```, then you uploaded your images to the wrong directory.\n",
    "\n",
    "\n",
    "UPDATE: If you have images stored in Google Drive and don't want to download them locally before reuploading them, uncomment the line below that says\n",
    "```\n",
    "#CUSTOM_DIR = \"PATH/TO/YOUR/IMAGES/HERE\"\n",
    "```\n",
    "\n",
    "and replace with the path to your images in Google Drive like so\n",
    "```\n",
    "CUSTOM_DIR = 'drive/MyDrive/pgc_project/images'  # Example only\n",
    "```"
   ]
  },
  {
   "cell_type": "code",
   "execution_count": null,
   "metadata": {
    "colab": {
     "base_uri": "https://localhost:8080/"
    },
    "executionInfo": {
     "elapsed": 304,
     "status": "ok",
     "timestamp": 1734400793546,
     "user": {
      "displayName": "Bo Meyering",
      "userId": "12820085305614794448"
     },
     "user_tz": 240
    },
    "id": "MhM1BH7wf4OD",
    "outputId": "ee3acd3b-19bc-4501-8334-fe604771d118"
   },
   "outputs": [],
   "source": [
    "# IF YOUR IMAGES ARE IN 'assets/images'\n",
    "img_filenames = get_filenames()\n",
    "img_filenames['filenames']\n",
    "\n",
    "# Grab all of the image filenames in 'assets/images'\n",
    "\n",
    "# CUSTOM_DIR = \"PATH/TO/YOUR/IMAGES/HERE\"\n",
    "# img_filenames = get_filenames(CUSTOM_DIR)\n",
    "# img_filenames['filenames']"
   ]
  },
  {
   "cell_type": "markdown",
   "metadata": {},
   "source": [
    "## Step 4\n",
    "Run the cell below. This sends each of the images in ```images``` list to the model API and sends the results to the image analysis pipeline.\n",
    "\n",
    "This step might take a long time to complete (15-20 seconds per image) depending on the type of server connection."
   ]
  },
  {
   "cell_type": "code",
   "execution_count": null,
   "metadata": {
    "colab": {
     "base_uri": "https://localhost:8080/"
    },
    "executionInfo": {
     "elapsed": 19015,
     "status": "ok",
     "timestamp": 1734400815573,
     "user": {
      "displayName": "Bo Meyering",
      "userId": "12820085305614794448"
     },
     "user_tz": 300
    },
    "id": "iEUX49yc_NB8",
    "outputId": "0f33b9c5-b92e-4b7c-fea8-707e39a7ccc4"
   },
   "outputs": [],
   "source": [
    "# Run the image analysis pipeline\n",
    "run_pipeline(img_filenames)"
   ]
  },
  {
   "cell_type": "markdown",
   "metadata": {
    "id": "PzzidrWZKlwL"
   },
   "source": [
    "## Step 5\n",
    "After the ```run_pipeline``` function is finished, you can check the model outputs in ```outputs/```"
   ]
  }
 ],
 "metadata": {
  "colab": {
   "authorship_tag": "ABX9TyMHNQOoYW0RB0aDpbe3lg+j",
   "provenance": []
  },
  "kernelspec": {
   "display_name": "Python 3 (ipykernel)",
   "language": "python",
   "name": "python3"
  },
  "language_info": {
   "codemirror_mode": {
    "name": "ipython",
    "version": 3
   },
   "file_extension": ".py",
   "mimetype": "text/x-python",
   "name": "python",
   "nbconvert_exporter": "python",
   "pygments_lexer": "ipython3",
   "version": "3.11.8"
  }
 },
 "nbformat": 4,
 "nbformat_minor": 4
}
